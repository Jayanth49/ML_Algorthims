{
 "cells": [
  {
   "cell_type": "code",
   "execution_count": 3,
   "metadata": {},
   "outputs": [],
   "source": [
    "import torch\n",
    "import torch.nn as nn\n",
    "import torch.nn.functional as F\n",
    "import torch.optim as optim\n",
    "from torchvision import datasets, transforms\n",
    "from torch.autograd import Variable\n",
    "from torchvision.utils import save_image\n",
    "\n",
    "# Device configuration\n",
    "device = torch.device('cuda' if torch.cuda.is_available() else 'cpu')"
   ]
  },
  {
   "cell_type": "code",
   "execution_count": 4,
   "metadata": {},
   "outputs": [],
   "source": [
    "bs=100\n",
    "# MNIST Dataset\n",
    "transform = transforms.Compose([\n",
    "    transforms.ToTensor(),\n",
    "    transforms.Normalize(mean=(0.5), std=(0.5))])\n",
    "\n",
    "train_loader = torch.utils.data.DataLoader(\n",
    "    datasets.MNIST('../data', train=True, download=True,\n",
    "                   transform=transform),\n",
    "    batch_size=bs, shuffle=True)\n",
    "\n",
    "test_loader = torch.utils.data.DataLoader(\n",
    "    datasets.MNIST('../data', train=False, transform=transform),\n",
    "    batch_size=bs, shuffle=True)"
   ]
  },
  {
   "cell_type": "code",
   "execution_count": 5,
   "metadata": {},
   "outputs": [],
   "source": [
    "class Generator(nn.Module):\n",
    "    def __init__(self,g_input_dim,g_output_dim):\n",
    "        super(Generator,self).__init__()\n",
    "        self.fc1 = nn.Linear(g_input_dim,256)\n",
    "        self.fc2 = nn.Linear(self.fc1.out_features,self.fc1.out_features*2)\n",
    "        self.fc3 = nn.Linear(self.fc2.out_features,self.fc2.out_features*2)\n",
    "        self.fc4 = nn.Linear(self.fc3.out_features,g_output_dim)\n",
    "    # Forward\n",
    "    \n",
    "    def forward(self,x):\n",
    "        x = F.leaky_relu(self.fc1(x),0.2)\n",
    "        x = F.leaky_relu(self.fc2(x),0.2)\n",
    "        x = F.leaky_relu(self.fc3(x),0.2)\n",
    "        return torch.tanh(self.fc4(x))\n",
    "    \n",
    "class Discriminator(nn.Module):\n",
    "    def __init__(self,d_input_dim):\n",
    "        super(Discriminator,self).__init__()\n",
    "        self.fc1 = nn.Linear(d_input_dim, 1024)\n",
    "        self.fc2 = nn.Linear(self.fc1.out_features, self.fc1.out_features//2)\n",
    "        self.fc3 = nn.Linear(self.fc2.out_features, self.fc2.out_features//2)\n",
    "        self.fc4 = nn.Linear(self.fc3.out_features, 1)\n",
    "        \n",
    "    # Forward\n",
    "    \n",
    "    def forward(self,x):\n",
    "        x = F.leaky_relu(self.fc1(x), 0.2)\n",
    "        x = F.dropout(x, 0.3)\n",
    "        x = F.leaky_relu(self.fc2(x), 0.2)\n",
    "        x = F.dropout(x, 0.3)\n",
    "        x = F.leaky_relu(self.fc3(x), 0.2)\n",
    "        x = F.dropout(x, 0.3)\n",
    "        return torch.sigmoid(self.fc4(x))\n"
   ]
  },
  {
   "cell_type": "code",
   "execution_count": 6,
   "metadata": {},
   "outputs": [],
   "source": [
    "z_dim = 100\n",
    "\n",
    "mnist_dim = 28*28\n",
    "G = Generator(g_input_dim=z_dim,g_output_dim=mnist_dim).to(device)\n",
    "D = Discriminator(mnist_dim).to(device)"
   ]
  },
  {
   "cell_type": "code",
   "execution_count": 7,
   "metadata": {},
   "outputs": [
    {
     "data": {
      "text/plain": [
       "Generator(\n",
       "  (fc1): Linear(in_features=100, out_features=256, bias=True)\n",
       "  (fc2): Linear(in_features=256, out_features=512, bias=True)\n",
       "  (fc3): Linear(in_features=512, out_features=1024, bias=True)\n",
       "  (fc4): Linear(in_features=1024, out_features=784, bias=True)\n",
       ")"
      ]
     },
     "execution_count": 7,
     "metadata": {},
     "output_type": "execute_result"
    }
   ],
   "source": [
    "G"
   ]
  },
  {
   "cell_type": "code",
   "execution_count": 8,
   "metadata": {},
   "outputs": [
    {
     "data": {
      "text/plain": [
       "Discriminator(\n",
       "  (fc1): Linear(in_features=784, out_features=1024, bias=True)\n",
       "  (fc2): Linear(in_features=1024, out_features=512, bias=True)\n",
       "  (fc3): Linear(in_features=512, out_features=256, bias=True)\n",
       "  (fc4): Linear(in_features=256, out_features=1, bias=True)\n",
       ")"
      ]
     },
     "execution_count": 8,
     "metadata": {},
     "output_type": "execute_result"
    }
   ],
   "source": [
    "D"
   ]
  },
  {
   "cell_type": "code",
   "execution_count": 10,
   "metadata": {},
   "outputs": [],
   "source": [
    "# Loss\n",
    "\n",
    "criterion = nn.BCELoss()\n",
    "\n",
    "# optimizer\n",
    "lr = 0.0002\n",
    "G_optimizer = optim.Adam(G.parameters(),lr=lr)\n",
    "D_optimizer = optim.Adam(D.parameters(),lr=lr)"
   ]
  },
  {
   "cell_type": "code",
   "execution_count": 11,
   "metadata": {},
   "outputs": [],
   "source": [
    "def D_train(x):\n",
    "    #=======================Train the discriminator=======================#\n",
    "    D.zero_grad()\n",
    "\n",
    "    # train discriminator on real\n",
    "    x_real, y_real = x.view(-1, mnist_dim), torch.ones(bs, 1)\n",
    "    x_real, y_real = Variable(x_real.to(device)), Variable(y_real.to(device))\n",
    "\n",
    "    D_output = D(x_real)\n",
    "    D_real_loss = criterion(D_output, y_real)\n",
    "    D_real_score = D_output\n",
    "\n",
    "    # train discriminator on facke\n",
    "    z = Variable(torch.randn(bs, z_dim).to(device))\n",
    "    x_fake, y_fake = G(z), Variable(torch.zeros(bs, 1).to(device))\n",
    "\n",
    "    D_output = D(x_fake)\n",
    "    D_fake_loss = criterion(D_output, y_fake)\n",
    "    D_fake_score = D_output\n",
    "\n",
    "    # gradient backprop & optimize ONLY D's parameters\n",
    "    D_loss = D_real_loss + D_fake_loss\n",
    "    D_loss.backward()\n",
    "    D_optimizer.step()\n",
    "        \n",
    "    return  D_loss.data.item()"
   ]
  },
  {
   "cell_type": "code",
   "execution_count": 12,
   "metadata": {},
   "outputs": [],
   "source": [
    "def G_train(x):\n",
    "    #=======================Train the generator=======================#\n",
    "    G.zero_grad()\n",
    "\n",
    "    z = Variable(torch.randn(bs, z_dim).to(device))\n",
    "    y = Variable(torch.ones(bs, 1).to(device))\n",
    "\n",
    "    G_output = G(z)\n",
    "    D_output = D(G_output)\n",
    "    G_loss = criterion(D_output, y)\n",
    "\n",
    "    # gradient backprop & optimize ONLY G's parameters\n",
    "    G_loss.backward()\n",
    "    G_optimizer.step()\n",
    "        \n",
    "    return G_loss.data.item()"
   ]
  },
  {
   "cell_type": "code",
   "execution_count": 10,
   "metadata": {},
   "outputs": [
    {
     "name": "stdout",
     "output_type": "stream",
     "text": [
      "[1/100]: loss_d: 1.096, loss_g: 2.570\n",
      "[2/100]: loss_d: 1.173, loss_g: 1.124\n",
      "[3/100]: loss_d: 0.838, loss_g: 2.410\n",
      "[4/100]: loss_d: 0.697, loss_g: 2.555\n",
      "[5/100]: loss_d: 0.486, loss_g: 3.016\n",
      "[6/100]: loss_d: 0.550, loss_g: 2.671\n",
      "[7/100]: loss_d: 0.490, loss_g: 2.929\n",
      "[8/100]: loss_d: 0.513, loss_g: 2.862\n",
      "[9/100]: loss_d: 0.581, loss_g: 2.661\n",
      "[10/100]: loss_d: 0.637, loss_g: 2.431\n",
      "[11/100]: loss_d: 0.624, loss_g: 2.447\n",
      "[12/100]: loss_d: 0.660, loss_g: 2.368\n",
      "[13/100]: loss_d: 0.753, loss_g: 2.028\n",
      "[14/100]: loss_d: 0.784, loss_g: 1.948\n",
      "[15/100]: loss_d: 0.746, loss_g: 2.022\n",
      "[16/100]: loss_d: 0.778, loss_g: 1.966\n",
      "[17/100]: loss_d: 0.777, loss_g: 1.930\n",
      "[18/100]: loss_d: 0.798, loss_g: 1.890\n",
      "[19/100]: loss_d: 0.885, loss_g: 1.687\n",
      "[20/100]: loss_d: 0.887, loss_g: 1.674\n",
      "[21/100]: loss_d: 0.893, loss_g: 1.625\n",
      "[22/100]: loss_d: 0.917, loss_g: 1.626\n",
      "[23/100]: loss_d: 0.914, loss_g: 1.608\n",
      "[24/100]: loss_d: 0.916, loss_g: 1.601\n",
      "[25/100]: loss_d: 0.964, loss_g: 1.491\n",
      "[26/100]: loss_d: 0.950, loss_g: 1.542\n",
      "[27/100]: loss_d: 0.958, loss_g: 1.476\n",
      "[28/100]: loss_d: 1.034, loss_g: 1.353\n",
      "[29/100]: loss_d: 1.013, loss_g: 1.387\n",
      "[30/100]: loss_d: 1.026, loss_g: 1.366\n",
      "[31/100]: loss_d: 1.015, loss_g: 1.395\n",
      "[32/100]: loss_d: 1.026, loss_g: 1.347\n",
      "[33/100]: loss_d: 1.027, loss_g: 1.354\n",
      "[34/100]: loss_d: 1.036, loss_g: 1.326\n",
      "[35/100]: loss_d: 1.065, loss_g: 1.250\n",
      "[36/100]: loss_d: 1.057, loss_g: 1.309\n",
      "[37/100]: loss_d: 1.061, loss_g: 1.292\n",
      "[38/100]: loss_d: 1.082, loss_g: 1.245\n",
      "[39/100]: loss_d: 1.086, loss_g: 1.238\n",
      "[40/100]: loss_d: 1.108, loss_g: 1.216\n",
      "[41/100]: loss_d: 1.117, loss_g: 1.189\n",
      "[42/100]: loss_d: 1.118, loss_g: 1.178\n",
      "[43/100]: loss_d: 1.129, loss_g: 1.161\n",
      "[44/100]: loss_d: 1.126, loss_g: 1.179\n",
      "[45/100]: loss_d: 1.133, loss_g: 1.152\n",
      "[46/100]: loss_d: 1.138, loss_g: 1.133\n",
      "[47/100]: loss_d: 1.152, loss_g: 1.116\n",
      "[48/100]: loss_d: 1.162, loss_g: 1.098\n",
      "[49/100]: loss_d: 1.159, loss_g: 1.105\n",
      "[50/100]: loss_d: 1.147, loss_g: 1.114\n",
      "[51/100]: loss_d: 1.156, loss_g: 1.115\n",
      "[52/100]: loss_d: 1.170, loss_g: 1.076\n",
      "[53/100]: loss_d: 1.173, loss_g: 1.088\n",
      "[54/100]: loss_d: 1.173, loss_g: 1.072\n",
      "[55/100]: loss_d: 1.169, loss_g: 1.082\n",
      "[56/100]: loss_d: 1.188, loss_g: 1.047\n",
      "[57/100]: loss_d: 1.202, loss_g: 1.020\n",
      "[58/100]: loss_d: 1.195, loss_g: 1.035\n",
      "[59/100]: loss_d: 1.193, loss_g: 1.042\n",
      "[60/100]: loss_d: 1.189, loss_g: 1.036\n",
      "[61/100]: loss_d: 1.204, loss_g: 1.014\n",
      "[62/100]: loss_d: 1.199, loss_g: 1.039\n",
      "[63/100]: loss_d: 1.196, loss_g: 1.028\n",
      "[64/100]: loss_d: 1.218, loss_g: 1.004\n",
      "[65/100]: loss_d: 1.217, loss_g: 0.995\n",
      "[66/100]: loss_d: 1.219, loss_g: 0.988\n",
      "[67/100]: loss_d: 1.219, loss_g: 0.988\n",
      "[68/100]: loss_d: 1.226, loss_g: 0.995\n",
      "[69/100]: loss_d: 1.213, loss_g: 0.993\n",
      "[70/100]: loss_d: 1.228, loss_g: 0.991\n",
      "[71/100]: loss_d: 1.214, loss_g: 1.002\n",
      "[72/100]: loss_d: 1.227, loss_g: 0.984\n",
      "[73/100]: loss_d: 1.230, loss_g: 0.986\n",
      "[74/100]: loss_d: 1.238, loss_g: 0.959\n",
      "[75/100]: loss_d: 1.236, loss_g: 0.970\n",
      "[76/100]: loss_d: 1.233, loss_g: 0.968\n",
      "[77/100]: loss_d: 1.228, loss_g: 0.986\n",
      "[78/100]: loss_d: 1.229, loss_g: 0.982\n",
      "[79/100]: loss_d: 1.227, loss_g: 0.983\n",
      "[80/100]: loss_d: 1.231, loss_g: 0.974\n",
      "[81/100]: loss_d: 1.234, loss_g: 0.970\n",
      "[82/100]: loss_d: 1.232, loss_g: 0.978\n",
      "[83/100]: loss_d: 1.240, loss_g: 0.953\n",
      "[84/100]: loss_d: 1.248, loss_g: 0.939\n",
      "[85/100]: loss_d: 1.243, loss_g: 0.953\n",
      "[86/100]: loss_d: 1.245, loss_g: 0.962\n",
      "[87/100]: loss_d: 1.241, loss_g: 0.964\n",
      "[88/100]: loss_d: 1.248, loss_g: 0.955\n",
      "[89/100]: loss_d: 1.243, loss_g: 0.946\n",
      "[90/100]: loss_d: 1.250, loss_g: 0.928\n",
      "[91/100]: loss_d: 1.252, loss_g: 0.956\n",
      "[92/100]: loss_d: 1.232, loss_g: 0.968\n",
      "[93/100]: loss_d: 1.239, loss_g: 0.965\n",
      "[94/100]: loss_d: 1.257, loss_g: 0.939\n",
      "[95/100]: loss_d: 1.264, loss_g: 0.915\n",
      "[96/100]: loss_d: 1.256, loss_g: 0.926\n",
      "[97/100]: loss_d: 1.258, loss_g: 0.934\n",
      "[98/100]: loss_d: 1.255, loss_g: 0.926\n",
      "[99/100]: loss_d: 1.259, loss_g: 0.941\n",
      "[100/100]: loss_d: 1.244, loss_g: 0.944\n"
     ]
    }
   ],
   "source": [
    "n_epoch = 100\n",
    "for epoch in range(1, n_epoch+1):           \n",
    "    D_losses, G_losses = [], []\n",
    "    for batch_idx, (x, _) in enumerate(train_loader):\n",
    "        D_losses.append(D_train(x))\n",
    "        G_losses.append(G_train(x))\n",
    "\n",
    "    print('[%d/%d]: loss_d: %.3f, loss_g: %.3f' % (\n",
    "            (epoch), n_epoch, torch.mean(torch.FloatTensor(D_losses)), torch.mean(torch.FloatTensor(G_losses))))"
   ]
  },
  {
   "cell_type": "code",
   "execution_count": 31,
   "metadata": {},
   "outputs": [],
   "source": [
    "with torch.no_grad():\n",
    "    test_z = Variable(torch.randn(bs, z_dim).to(device))\n",
    "    generated = G(test_z)\n",
    "\n",
    "#     save_image(generated.view(generated.size(0), 1, 28, 28), './samples/sample_' + '.png')"
   ]
  },
  {
   "cell_type": "code",
   "execution_count": 32,
   "metadata": {},
   "outputs": [
    {
     "data": {
      "image/png": "[encoded data removed]",
      "text/plain": [
       "<Figure size 432x288 with 1 Axes>"
      ]
     },
     "metadata": {
      "needs_background": "light"
     },
     "output_type": "display_data"
    }
   ],
   "source": [
    "import matplotlib.pyplot as plt\n",
    "plt.figure()\n",
    "for i in range(1,10):\n",
    "    plt.imshow(generated.cpu().numpy()[i].reshape(28,28))\n",
    "    \n",
    "plt.show()"
   ]
  },
  {
   "cell_type": "code",
   "execution_count": 21,
   "metadata": {},
   "outputs": [],
   "source": [
    "import pickle"
   ]
  },
  {
   "cell_type": "code",
   "execution_count": 22,
   "metadata": {},
   "outputs": [],
   "source": [
    "pickle.dump(Generator,open(\"Generator.pickle.dat\",\"wb\"))\n",
    "pickle.dump(Discriminator,open(\"Discriminator.pickle.dat\",\"wb\"))"
   ]
  },
  {
   "cell_type": "code",
   "execution_count": null,
   "metadata": {},
   "outputs": [],
   "source": [
    "# class Generator(nn.Module):\n",
    "#     def __init__(self, g_input_dim, g_output_dim):\n",
    "#         super(Generator, self).__init__()       \n",
    "#         self.fc1 = nn.Linear(g_input_dim, 256)\n",
    "#         self.fc2 = nn.Linear(self.fc1.out_features, self.fc1.out_features*2)\n",
    "#         self.fc3 = nn.Linear(self.fc2.out_features, self.fc2.out_features*2)\n",
    "#         self.fc4 = nn.Linear(self.fc3.out_features, g_output_dim)\n",
    "    \n",
    "#     # forward method\n",
    "#     def forward(self, x): \n",
    "#         x = F.leaky_relu(self.fc1(x), 0.2)\n",
    "#         x = F.leaky_relu(self.fc2(x), 0.2)\n",
    "#         x = F.leaky_relu(self.fc3(x), 0.2)\n",
    "#         return torch.tanh(self.fc4(x))\n",
    "    \n",
    "# class Discriminator(nn.Module):\n",
    "#     def __init__(self, d_input_dim):\n",
    "#         super(Discriminator, self).__init__()\n",
    "#         self.fc1 = nn.Linear(d_input_dim, 1024)\n",
    "#         self.fc2 = nn.Linear(self.fc1.out_features, self.fc1.out_features//2)\n",
    "#         self.fc3 = nn.Linear(self.fc2.out_features, self.fc2.out_features//2)\n",
    "#         self.fc4 = nn.Linear(self.fc3.out_features, 1)\n",
    "    \n",
    "#     # forward method\n",
    "#     def forward(self, x):\n",
    "#         x = F.leaky_relu(self.fc1(x), 0.2)\n",
    "#         x = F.dropout(x, 0.3)\n",
    "#         x = F.leaky_relu(self.fc2(x), 0.2)\n",
    "#         x = F.dropout(x, 0.3)\n",
    "#         x = F.leaky_relu(self.fc3(x), 0.2)\n",
    "#         x = F.dropout(x, 0.3)\n",
    "#         return torch.sigmoid(self.fc4(x))"
   ]
  }
 ],
 "metadata": {
  "kernelspec": {
   "display_name": "Python 3",
   "language": "python",
   "name": "python3"
  },
  "language_info": {
   "codemirror_mode": {
    "name": "ipython",
    "version": 3
   },
   "file_extension": ".py",
   "mimetype": "text/x-python",
   "name": "python",
   "nbconvert_exporter": "python",
   "pygments_lexer": "ipython3",
   "version": "3.7.9"
  }
 },
 "nbformat": 4,
 "nbformat_minor": 4
}
