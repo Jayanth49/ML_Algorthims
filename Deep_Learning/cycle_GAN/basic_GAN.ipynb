{
 "cells": [
  {
   "cell_type": "code",
   "execution_count": 3,
   "metadata": {},
   "outputs": [],
   "source": [
    "import torch\n",
    "import torch.nn as nn\n",
    "import torch.nn.functional as F\n",
    "import torch.optim as optim\n",
    "from torchvision import datasets, transforms\n",
    "from torch.autograd import Variable\n",
    "from torchvision.utils import save_image\n",
    "\n",
    "# Device configuration\n",
    "device = torch.device('cuda' if torch.cuda.is_available() else 'cpu')"
   ]
  },
  {
   "cell_type": "code",
   "execution_count": 4,
   "metadata": {},
   "outputs": [],
   "source": [
    "bs=100\n",
    "# MNIST Dataset\n",
    "transform = transforms.Compose([\n",
    "    transforms.ToTensor(),\n",
    "    transforms.Normalize(mean=(0.5), std=(0.5))])\n",
    "\n",
    "train_loader = torch.utils.data.DataLoader(\n",
    "    datasets.MNIST('../data', train=True, download=True,\n",
    "                   transform=transform),\n",
    "    batch_size=bs, shuffle=True)\n",
    "\n",
    "test_loader = torch.utils.data.DataLoader(\n",
    "    datasets.MNIST('../data', train=False, transform=transform),\n",
    "    batch_size=bs, shuffle=True)"
   ]
  },
  {
   "cell_type": "code",
   "execution_count": 15,
   "metadata": {},
   "outputs": [],
   "source": [
    "class Generator(nn.Module):\n",
    "    def __init__(self,g_input_dim,g_output_dim):\n",
    "        super(Generator,self).__init__()\n",
    "        self.fc1 = nn.Linear(g_input_dim,256)\n",
    "        self.fc2 = nn.Linear(self.fc1.out_features,self.fc1.out_features*2)\n",
    "        self.fc3 = nn.Linear(self.fc2.out_features,self.fc2.out_features*2)\n",
    "        self.fc4 = nn.Linear(self.fc3.out_features,g_output_dim)\n",
    "    # Forward\n",
    "    \n",
    "    def forward(self,x):\n",
    "        x = F.leaky_relu(self.fc1(x),0.3)\n",
    "        x = F.leaky_relu(self.fc2(x),0.3)\n",
    "        x = F.leaky_relu(self.fc3(x),0.3)\n",
    "        return torch.tanh(self.fc4(x))\n",
    "    \n",
    "class Discriminator(nn.Module):\n",
    "    def __init__(self,d_input_dim):\n",
    "        super(Discriminator,self).__init__()\n",
    "        self.fc1 = nn.Linear(d_input_dim, 1024)\n",
    "        self.fc2 = nn.Linear(self.fc1.out_features, self.fc1.out_features//2)\n",
    "        self.fc3 = nn.Linear(self.fc2.out_features, self.fc2.out_features//2)\n",
    "        self.fc4 = nn.Linear(self.fc3.out_features, 1)\n",
    "        \n",
    "    # Forward\n",
    "    \n",
    "    def forward(self,x):\n",
    "        x = F.leaky_relu(self.fc1(x), 0.3)\n",
    "        x = F.dropout(x, 0.3)\n",
    "        x = F.leaky_relu(self.fc2(x), 0.3)\n",
    "        x = F.dropout(x, 0.3)\n",
    "        x = F.leaky_relu(self.fc3(x), 0.3)\n",
    "        x = F.dropout(x, 0.3)\n",
    "        return torch.sigmoid(self.fc4(x))\n"
   ]
  },
  {
   "cell_type": "code",
   "execution_count": 16,
   "metadata": {},
   "outputs": [],
   "source": [
    "z_dim = 100\n",
    "\n",
    "mnist_dim = 28*28\n",
    "G = Generator(g_input_dim=z_dim,g_output_dim=mnist_dim).to(device)\n",
    "D = Discriminator(mnist_dim).to(device)"
   ]
  },
  {
   "cell_type": "code",
   "execution_count": 17,
   "metadata": {},
   "outputs": [
    {
     "data": {
      "text/plain": [
       "Generator(\n",
       "  (fc1): Linear(in_features=100, out_features=256, bias=True)\n",
       "  (fc2): Linear(in_features=256, out_features=512, bias=True)\n",
       "  (fc3): Linear(in_features=512, out_features=1024, bias=True)\n",
       "  (fc4): Linear(in_features=1024, out_features=784, bias=True)\n",
       ")"
      ]
     },
     "execution_count": 17,
     "metadata": {},
     "output_type": "execute_result"
    }
   ],
   "source": [
    "G"
   ]
  },
  {
   "cell_type": "code",
   "execution_count": 18,
   "metadata": {},
   "outputs": [
    {
     "data": {
      "text/plain": [
       "Discriminator(\n",
       "  (fc1): Linear(in_features=784, out_features=1024, bias=True)\n",
       "  (fc2): Linear(in_features=1024, out_features=512, bias=True)\n",
       "  (fc3): Linear(in_features=512, out_features=256, bias=True)\n",
       "  (fc4): Linear(in_features=256, out_features=1, bias=True)\n",
       ")"
      ]
     },
     "execution_count": 18,
     "metadata": {},
     "output_type": "execute_result"
    }
   ],
   "source": [
    "D"
   ]
  },
  {
   "cell_type": "code",
   "execution_count": 19,
   "metadata": {},
   "outputs": [],
   "source": [
    "# Loss\n",
    "\n",
    "criterion = nn.BCELoss()\n",
    "\n",
    "# optimizer\n",
    "lr = 0.0002\n",
    "G_optimizer = optim.Adam(G.parameters(),lr=lr)\n",
    "D_optimizer = optim.Adam(D.parameters(),lr=lr)"
   ]
  },
  {
   "cell_type": "code",
   "execution_count": 20,
   "metadata": {},
   "outputs": [],
   "source": [
    "def D_train(x):\n",
    "    #=======================Train the discriminator=======================#\n",
    "    D.zero_grad()\n",
    "\n",
    "    # train discriminator on real\n",
    "    x_real, y_real = x.view(-1, mnist_dim), torch.ones(bs, 1)\n",
    "    x_real, y_real = Variable(x_real.to(device)), Variable(y_real.to(device))\n",
    "\n",
    "    D_output = D(x_real)\n",
    "    D_real_loss = criterion(D_output, y_real)\n",
    "    D_real_score = D_output\n",
    "\n",
    "    # train discriminator on facke\n",
    "    z = Variable(torch.randn(bs, z_dim).to(device))\n",
    "    x_fake, y_fake = G(z), Variable(torch.zeros(bs, 1).to(device))\n",
    "\n",
    "    D_output = D(x_fake)\n",
    "    D_fake_loss = criterion(D_output, y_fake)\n",
    "    D_fake_score = D_output\n",
    "\n",
    "    # gradient backprop & optimize ONLY D's parameters\n",
    "    D_loss = D_real_loss + D_fake_loss\n",
    "    D_loss.backward()\n",
    "    D_optimizer.step()\n",
    "        \n",
    "    return  D_loss.data.item()"
   ]
  },
  {
   "cell_type": "code",
   "execution_count": 21,
   "metadata": {},
   "outputs": [],
   "source": [
    "def G_train(x):\n",
    "    #=======================Train the generator=======================#\n",
    "    G.zero_grad()\n",
    "\n",
    "    z = Variable(torch.randn(bs, z_dim).to(device))\n",
    "    y = Variable(torch.ones(bs, 1).to(device))\n",
    "\n",
    "    G_output = G(z)\n",
    "    D_output = D(G_output)\n",
    "    G_loss = criterion(D_output, y)\n",
    "\n",
    "    # gradient backprop & optimize ONLY G's parameters\n",
    "    G_loss.backward()\n",
    "    G_optimizer.step()\n",
    "        \n",
    "    return G_loss.data.item()"
   ]
  },
  {
   "cell_type": "code",
   "execution_count": 22,
   "metadata": {},
   "outputs": [
    {
     "name": "stdout",
     "output_type": "stream",
     "text": [
      "[1/100]: loss_d: 0.446, loss_g: 6.087\n",
      "[2/100]: loss_d: 0.594, loss_g: 6.362\n",
      "[3/100]: loss_d: 0.827, loss_g: 3.717\n",
      "[4/100]: loss_d: 0.906, loss_g: 2.548\n",
      "[5/100]: loss_d: 1.118, loss_g: 2.141\n",
      "[6/100]: loss_d: 1.104, loss_g: 1.743\n",
      "[7/100]: loss_d: 1.246, loss_g: 1.970\n",
      "[8/100]: loss_d: 1.146, loss_g: 1.425\n",
      "[9/100]: loss_d: 1.039, loss_g: 1.719\n",
      "[10/100]: loss_d: 0.971, loss_g: 1.491\n",
      "[11/100]: loss_d: 0.917, loss_g: 1.761\n",
      "[12/100]: loss_d: 0.837, loss_g: 1.849\n",
      "[13/100]: loss_d: 1.015, loss_g: 1.581\n",
      "[14/100]: loss_d: 1.058, loss_g: 1.402\n",
      "[15/100]: loss_d: 0.979, loss_g: 1.629\n",
      "[16/100]: loss_d: 0.977, loss_g: 1.583\n",
      "[17/100]: loss_d: 0.979, loss_g: 1.514\n",
      "[18/100]: loss_d: 0.976, loss_g: 1.608\n",
      "[19/100]: loss_d: 0.867, loss_g: 1.828\n",
      "[20/100]: loss_d: 0.912, loss_g: 1.688\n",
      "[21/100]: loss_d: 0.942, loss_g: 1.595\n",
      "[22/100]: loss_d: 0.984, loss_g: 1.499\n",
      "[23/100]: loss_d: 0.933, loss_g: 1.626\n",
      "[24/100]: loss_d: 0.855, loss_g: 1.799\n",
      "[25/100]: loss_d: 0.885, loss_g: 1.715\n",
      "[26/100]: loss_d: 0.874, loss_g: 1.743\n",
      "[27/100]: loss_d: 0.937, loss_g: 1.589\n",
      "[28/100]: loss_d: 0.949, loss_g: 1.532\n",
      "[29/100]: loss_d: 0.997, loss_g: 1.422\n",
      "[30/100]: loss_d: 0.959, loss_g: 1.491\n",
      "[31/100]: loss_d: 0.965, loss_g: 1.478\n",
      "[32/100]: loss_d: 0.946, loss_g: 1.522\n",
      "[33/100]: loss_d: 0.967, loss_g: 1.478\n",
      "[34/100]: loss_d: 0.922, loss_g: 1.568\n",
      "[35/100]: loss_d: 0.951, loss_g: 1.476\n",
      "[36/100]: loss_d: 0.947, loss_g: 1.484\n",
      "[37/100]: loss_d: 0.959, loss_g: 1.486\n",
      "[38/100]: loss_d: 0.999, loss_g: 1.380\n",
      "[39/100]: loss_d: 1.049, loss_g: 1.290\n",
      "[40/100]: loss_d: 1.063, loss_g: 1.260\n",
      "[41/100]: loss_d: 1.083, loss_g: 1.226\n",
      "[42/100]: loss_d: 1.086, loss_g: 1.225\n",
      "[43/100]: loss_d: 1.093, loss_g: 1.205\n",
      "[44/100]: loss_d: 1.081, loss_g: 1.247\n",
      "[45/100]: loss_d: 1.086, loss_g: 1.212\n",
      "[46/100]: loss_d: 1.106, loss_g: 1.178\n",
      "[47/100]: loss_d: 1.097, loss_g: 1.206\n",
      "[48/100]: loss_d: 1.116, loss_g: 1.163\n",
      "[49/100]: loss_d: 1.118, loss_g: 1.175\n",
      "[50/100]: loss_d: 1.123, loss_g: 1.142\n",
      "[51/100]: loss_d: 1.115, loss_g: 1.169\n",
      "[52/100]: loss_d: 1.112, loss_g: 1.176\n",
      "[53/100]: loss_d: 1.136, loss_g: 1.126\n",
      "[54/100]: loss_d: 1.149, loss_g: 1.103\n",
      "[55/100]: loss_d: 1.157, loss_g: 1.095\n",
      "[56/100]: loss_d: 1.145, loss_g: 1.119\n",
      "[57/100]: loss_d: 1.138, loss_g: 1.132\n",
      "[58/100]: loss_d: 1.145, loss_g: 1.117\n",
      "[59/100]: loss_d: 1.138, loss_g: 1.137\n",
      "[60/100]: loss_d: 1.150, loss_g: 1.104\n",
      "[61/100]: loss_d: 1.139, loss_g: 1.120\n",
      "[62/100]: loss_d: 1.138, loss_g: 1.140\n",
      "[63/100]: loss_d: 1.156, loss_g: 1.101\n",
      "[64/100]: loss_d: 1.154, loss_g: 1.106\n",
      "[65/100]: loss_d: 1.173, loss_g: 1.074\n",
      "[66/100]: loss_d: 1.160, loss_g: 1.094\n",
      "[67/100]: loss_d: 1.163, loss_g: 1.081\n",
      "[68/100]: loss_d: 1.167, loss_g: 1.077\n",
      "[69/100]: loss_d: 1.175, loss_g: 1.063\n",
      "[70/100]: loss_d: 1.175, loss_g: 1.069\n",
      "[71/100]: loss_d: 1.184, loss_g: 1.059\n",
      "[72/100]: loss_d: 1.171, loss_g: 1.076\n",
      "[73/100]: loss_d: 1.195, loss_g: 1.030\n",
      "[74/100]: loss_d: 1.182, loss_g: 1.065\n",
      "[75/100]: loss_d: 1.181, loss_g: 1.068\n",
      "[76/100]: loss_d: 1.185, loss_g: 1.049\n",
      "[77/100]: loss_d: 1.183, loss_g: 1.063\n",
      "[78/100]: loss_d: 1.177, loss_g: 1.065\n",
      "[79/100]: loss_d: 1.186, loss_g: 1.054\n",
      "[80/100]: loss_d: 1.186, loss_g: 1.044\n",
      "[81/100]: loss_d: 1.209, loss_g: 1.004\n",
      "[82/100]: loss_d: 1.212, loss_g: 1.004\n",
      "[83/100]: loss_d: 1.204, loss_g: 1.024\n",
      "[84/100]: loss_d: 1.208, loss_g: 1.025\n",
      "[85/100]: loss_d: 1.210, loss_g: 1.014\n",
      "[86/100]: loss_d: 1.199, loss_g: 1.020\n",
      "[87/100]: loss_d: 1.213, loss_g: 1.017\n",
      "[88/100]: loss_d: 1.203, loss_g: 1.028\n",
      "[89/100]: loss_d: 1.208, loss_g: 1.021\n",
      "[90/100]: loss_d: 1.196, loss_g: 1.040\n",
      "[91/100]: loss_d: 1.214, loss_g: 1.000\n",
      "[92/100]: loss_d: 1.216, loss_g: 1.002\n",
      "[93/100]: loss_d: 1.209, loss_g: 1.022\n",
      "[94/100]: loss_d: 1.209, loss_g: 1.009\n",
      "[95/100]: loss_d: 1.220, loss_g: 1.003\n",
      "[96/100]: loss_d: 1.214, loss_g: 1.002\n",
      "[97/100]: loss_d: 1.210, loss_g: 1.013\n",
      "[98/100]: loss_d: 1.219, loss_g: 1.001\n",
      "[99/100]: loss_d: 1.217, loss_g: 0.999\n",
      "[100/100]: loss_d: 1.225, loss_g: 0.990\n"
     ]
    }
   ],
   "source": [
    "n_epoch = 100\n",
    "for epoch in range(1, n_epoch+1):           \n",
    "    D_losses, G_losses = [], []\n",
    "    for batch_idx, (x, _) in enumerate(train_loader):\n",
    "        D_losses.append(D_train(x))\n",
    "        G_losses.append(G_train(x))\n",
    "\n",
    "    print('[%d/%d]: loss_d: %.3f, loss_g: %.3f' % (\n",
    "            (epoch), n_epoch, torch.mean(torch.FloatTensor(D_losses)), torch.mean(torch.FloatTensor(G_losses))))"
   ]
  },
  {
   "cell_type": "code",
   "execution_count": 27,
   "metadata": {},
   "outputs": [],
   "source": [
    "with torch.no_grad():\n",
    "    test_z = Variable(torch.randn(bs, z_dim).to(device))\n",
    "    generated = G(test_z)\n",
    "\n",
    "#     save_image(generated.view(generated.size(0), 1, 28, 28), './samples/sample_' + '.png')"
   ]
  },
  {
   "cell_type": "code",
   "execution_count": 28,
   "metadata": {},
   "outputs": [
    {
     "data": {
      "image/png": "[encoded data removed]",
      "text/plain": [
       "<Figure size 432x288 with 1 Axes>"
      ]
     },
     "metadata": {
      "needs_background": "light"
     },
     "output_type": "display_data"
    }
   ],
   "source": [
    "import matplotlib.pyplot as plt\n",
    "plt.figure()\n",
    "for i in range(1,10):\n",
    "    plt.imshow(generated.cpu().numpy()[i].reshape(28,28))\n",
    "    \n",
    "plt.show()"
   ]
  },
  {
   "cell_type": "code",
   "execution_count": 25,
   "metadata": {},
   "outputs": [],
   "source": [
    "import pickle"
   ]
  },
  {
   "cell_type": "code",
   "execution_count": 26,
   "metadata": {},
   "outputs": [],
   "source": [
    "pickle.dump(Generator,open(\"Generator2.pickle.dat\",\"wb\"))\n",
    "pickle.dump(Discriminator,open(\"Discriminator2.pickle.dat\",\"wb\"))"
   ]
  },
  {
   "cell_type": "code",
   "execution_count": null,
   "metadata": {},
   "outputs": [],
   "source": [
    "# class Generator(nn.Module):\n",
    "#     def __init__(self, g_input_dim, g_output_dim):\n",
    "#         super(Generator, self).__init__()       \n",
    "#         self.fc1 = nn.Linear(g_input_dim, 256)\n",
    "#         self.fc2 = nn.Linear(self.fc1.out_features, self.fc1.out_features*2)\n",
    "#         self.fc3 = nn.Linear(self.fc2.out_features, self.fc2.out_features*2)\n",
    "#         self.fc4 = nn.Linear(self.fc3.out_features, g_output_dim)\n",
    "    \n",
    "#     # forward method\n",
    "#     def forward(self, x): \n",
    "#         x = F.leaky_relu(self.fc1(x), 0.2)\n",
    "#         x = F.leaky_relu(self.fc2(x), 0.2)\n",
    "#         x = F.leaky_relu(self.fc3(x), 0.2)\n",
    "#         return torch.tanh(self.fc4(x))\n",
    "    \n",
    "# class Discriminator(nn.Module):\n",
    "#     def __init__(self, d_input_dim):\n",
    "#         super(Discriminator, self).__init__()\n",
    "#         self.fc1 = nn.Linear(d_input_dim, 1024)\n",
    "#         self.fc2 = nn.Linear(self.fc1.out_features, self.fc1.out_features//2)\n",
    "#         self.fc3 = nn.Linear(self.fc2.out_features, self.fc2.out_features//2)\n",
    "#         self.fc4 = nn.Linear(self.fc3.out_features, 1)\n",
    "    \n",
    "#     # forward method\n",
    "#     def forward(self, x):\n",
    "#         x = F.leaky_relu(self.fc1(x), 0.2)\n",
    "#         x = F.dropout(x, 0.3)\n",
    "#         x = F.leaky_relu(self.fc2(x), 0.2)\n",
    "#         x = F.dropout(x, 0.3)\n",
    "#         x = F.leaky_relu(self.fc3(x), 0.2)\n",
    "#         x = F.dropout(x, 0.3)\n",
    "#         return torch.sigmoid(self.fc4(x))"
   ]
  }
 ],
 "metadata": {
  "kernelspec": {
   "display_name": "Python 3",
   "language": "python",
   "name": "python3"
  },
  "language_info": {
   "codemirror_mode": {
    "name": "ipython",
    "version": 3
   },
   "file_extension": ".py",
   "mimetype": "text/x-python",
   "name": "python",
   "nbconvert_exporter": "python",
   "pygments_lexer": "ipython3",
   "version": "3.7.9"
  }
 },
 "nbformat": 4,
 "nbformat_minor": 4
}
