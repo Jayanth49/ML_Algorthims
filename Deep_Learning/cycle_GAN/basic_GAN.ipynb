{
 "cells": [
  {
   "cell_type": "code",
   "execution_count": 3,
   "metadata": {},
   "outputs": [],
   "source": [
    "import torch\n",
    "import torch.nn as nn\n",
    "import torch.nn.functional as F\n",
    "import torch.optim as optim\n",
    "from torchvision import datasets, transforms\n",
    "from torch.autograd import Variable\n",
    "from torchvision.utils import save_image\n",
    "\n",
    "# Device configuration\n",
    "device = torch.device('cuda' if torch.cuda.is_available() else 'cpu')"
   ]
  },
  {
   "cell_type": "code",
   "execution_count": 4,
   "metadata": {},
   "outputs": [],
   "source": [
    "bs=100\n",
    "# MNIST Dataset\n",
    "transform = transforms.Compose([\n",
    "    transforms.ToTensor(),\n",
    "    transforms.Normalize(mean=(0.5), std=(0.5))])\n",
    "\n",
    "train_loader = torch.utils.data.DataLoader(\n",
    "    datasets.MNIST('../data', train=True, download=True,\n",
    "                   transform=transform),\n",
    "    batch_size=bs, shuffle=True)\n",
    "\n",
    "test_loader = torch.utils.data.DataLoader(\n",
    "    datasets.MNIST('../data', train=False, transform=transform),\n",
    "    batch_size=bs, shuffle=True)"
   ]
  },
  {
   "cell_type": "code",
   "execution_count": 15,
   "metadata": {},
   "outputs": [],
   "source": [
    "class Generator(nn.Module):\n",
    "    def __init__(self,g_input_dim,g_output_dim):\n",
    "        super(Generator,self).__init__()\n",
    "        self.fc1 = nn.Linear(g_input_dim,256)\n",
    "        self.fc2 = nn.Linear(self.fc1.out_features,self.fc1.out_features*2)\n",
    "        self.fc3 = nn.Linear(self.fc2.out_features,self.fc2.out_features*2)\n",
    "        self.fc4 = nn.Linear(self.fc3.out_features,g_output_dim)\n",
    "    # Forward\n",
    "    \n",
    "    def forward(self,x):\n",
    "        x = F.leaky_relu(self.fc1(x),0.3)\n",
    "        x = F.leaky_relu(self.fc2(x),0.3)\n",
    "        x = F.leaky_relu(self.fc3(x),0.3)\n",
    "        return torch.tanh(self.fc4(x))\n",
    "    \n",
    "class Discriminator(nn.Module):\n",
    "    def __init__(self,d_input_dim):\n",
    "        super(Discriminator,self).__init__()\n",
    "        self.fc1 = nn.Linear(d_input_dim, 1024)\n",
    "        self.fc2 = nn.Linear(self.fc1.out_features, self.fc1.out_features//2)\n",
    "        self.fc3 = nn.Linear(self.fc2.out_features, self.fc2.out_features//2)\n",
    "        self.fc4 = nn.Linear(self.fc3.out_features, 1)\n",
    "        \n",
    "    # Forward\n",
    "    \n",
    "    def forward(self,x):\n",
    "        x = F.leaky_relu(self.fc1(x), 0.3)\n",
    "        x = F.dropout(x, 0.3)\n",
    "        x = F.leaky_relu(self.fc2(x), 0.3)\n",
    "        x = F.dropout(x, 0.3)\n",
    "        x = F.leaky_relu(self.fc3(x), 0.3)\n",
    "        x = F.dropout(x, 0.3)\n",
    "        return torch.sigmoid(self.fc4(x))\n"
   ]
  },
  {
   "cell_type": "code",
   "execution_count": 16,
   "metadata": {},
   "outputs": [],
   "source": [
    "z_dim = 100\n",
    "\n",
    "mnist_dim = 28*28\n",
    "G = Generator(g_input_dim=z_dim,g_output_dim=mnist_dim).to(device)\n",
    "D = Discriminator(mnist_dim).to(device)"
   ]
  },
  {
   "cell_type": "code",
   "execution_count": 17,
   "metadata": {},
   "outputs": [
    {
     "data": {
      "text/plain": [
       "Generator(\n",
       "  (fc1): Linear(in_features=100, out_features=256, bias=True)\n",
       "  (fc2): Linear(in_features=256, out_features=512, bias=True)\n",
       "  (fc3): Linear(in_features=512, out_features=1024, bias=True)\n",
       "  (fc4): Linear(in_features=1024, out_features=784, bias=True)\n",
       ")"
      ]
     },
     "execution_count": 17,
     "metadata": {},
     "output_type": "execute_result"
    }
   ],
   "source": [
    "G"
   ]
  },
  {
   "cell_type": "code",
   "execution_count": 18,
   "metadata": {},
   "outputs": [
    {
     "data": {
      "text/plain": [
       "Discriminator(\n",
       "  (fc1): Linear(in_features=784, out_features=1024, bias=True)\n",
       "  (fc2): Linear(in_features=1024, out_features=512, bias=True)\n",
       "  (fc3): Linear(in_features=512, out_features=256, bias=True)\n",
       "  (fc4): Linear(in_features=256, out_features=1, bias=True)\n",
       ")"
      ]
     },
     "execution_count": 18,
     "metadata": {},
     "output_type": "execute_result"
    }
   ],
   "source": [
    "D"
   ]
  },
  {
   "cell_type": "code",
   "execution_count": 19,
   "metadata": {},
   "outputs": [],
   "source": [
    "# Loss\n",
    "\n",
    "criterion = nn.BCELoss()\n",
    "\n",
    "# optimizer\n",
    "lr = 0.0002\n",
    "G_optimizer = optim.Adam(G.parameters(),lr=lr)\n",
    "D_optimizer = optim.Adam(D.parameters(),lr=lr)"
   ]
  },
  {
   "cell_type": "code",
   "execution_count": 20,
   "metadata": {},
   "outputs": [],
   "source": [
    "def D_train(x):\n",
    "    #=======================Train the discriminator=======================#\n",
    "    D.zero_grad()\n",
    "\n",
    "    # train discriminator on real\n",
    "    x_real, y_real = x.view(-1, mnist_dim), torch.ones(bs, 1)\n",
    "    x_real, y_real = Variable(x_real.to(device)), Variable(y_real.to(device))\n",
    "\n",
    "    D_output = D(x_real)\n",
    "    D_real_loss = criterion(D_output, y_real)\n",
    "    D_real_score = D_output\n",
    "\n",
    "    # train discriminator on facke\n",
    "    z = Variable(torch.randn(bs, z_dim).to(device))\n",
    "    x_fake, y_fake = G(z), Variable(torch.zeros(bs, 1).to(device))\n",
    "\n",
    "    D_output = D(x_fake)\n",
    "    D_fake_loss = criterion(D_output, y_fake)\n",
    "    D_fake_score = D_output\n",
    "\n",
    "    # gradient backprop & optimize ONLY D's parameters\n",
    "    D_loss = D_real_loss + D_fake_loss\n",
    "    D_loss.backward()\n",
    "    D_optimizer.step()\n",
    "        \n",
    "    return  D_loss.data.item()"
   ]
  },
  {
   "cell_type": "code",
   "execution_count": 21,
   "metadata": {},
   "outputs": [],
   "source": [
    "def G_train(x):\n",
    "    #=======================Train the generator=======================#\n",
    "    G.zero_grad()\n",
    "\n",
    "    z = Variable(torch.randn(bs, z_dim).to(device))\n",
    "    y = Variable(torch.ones(bs, 1).to(device))\n",
    "\n",
    "    G_output = G(z)\n",
    "    D_output = D(G_output)\n",
    "    G_loss = criterion(D_output, y)\n",
    "\n",
    "    # gradient backprop & optimize ONLY G's parameters\n",
    "    G_loss.backward()\n",
    "    G_optimizer.step()\n",
    "        \n",
    "    return G_loss.data.item()"
   ]
  },
  {
   "cell_type": "code",
   "execution_count": null,
   "metadata": {},
   "outputs": [
    {
     "name": "stdout",
     "output_type": "stream",
     "text": [
      "[1/100]: loss_d: 0.446, loss_g: 6.087\n",
      "[2/100]: loss_d: 0.594, loss_g: 6.362\n",
      "[3/100]: loss_d: 0.827, loss_g: 3.717\n",
      "[4/100]: loss_d: 0.906, loss_g: 2.548\n",
      "[5/100]: loss_d: 1.118, loss_g: 2.141\n",
      "[6/100]: loss_d: 1.104, loss_g: 1.743\n",
      "[7/100]: loss_d: 1.246, loss_g: 1.970\n",
      "[8/100]: loss_d: 1.146, loss_g: 1.425\n",
      "[9/100]: loss_d: 1.039, loss_g: 1.719\n",
      "[10/100]: loss_d: 0.971, loss_g: 1.491\n",
      "[11/100]: loss_d: 0.917, loss_g: 1.761\n",
      "[12/100]: loss_d: 0.837, loss_g: 1.849\n",
      "[13/100]: loss_d: 1.015, loss_g: 1.581\n",
      "[14/100]: loss_d: 1.058, loss_g: 1.402\n",
      "[15/100]: loss_d: 0.979, loss_g: 1.629\n"
     ]
    }
   ],
   "source": [
    "n_epoch = 100\n",
    "for epoch in range(1, n_epoch+1):           \n",
    "    D_losses, G_losses = [], []\n",
    "    for batch_idx, (x, _) in enumerate(train_loader):\n",
    "        D_losses.append(D_train(x))\n",
    "        G_losses.append(G_train(x))\n",
    "\n",
    "    print('[%d/%d]: loss_d: %.3f, loss_g: %.3f' % (\n",
    "            (epoch), n_epoch, torch.mean(torch.FloatTensor(D_losses)), torch.mean(torch.FloatTensor(G_losses))))"
   ]
  },
  {
   "cell_type": "code",
   "execution_count": null,
   "metadata": {},
   "outputs": [],
   "source": [
    "with torch.no_grad():\n",
    "    test_z = Variable(torch.randn(bs, z_dim).to(device))\n",
    "    generated = G(test_z)\n",
    "\n",
    "#     save_image(generated.view(generated.size(0), 1, 28, 28), './samples/sample_' + '.png')"
   ]
  },
  {
   "cell_type": "code",
   "execution_count": null,
   "metadata": {},
   "outputs": [],
   "source": [
    "import matplotlib.pyplot as plt\n",
    "plt.figure()\n",
    "for i in range(1,10):\n",
    "    plt.imshow(generated.cpu().numpy()[i].reshape(28,28))\n",
    "    \n",
    "plt.show()"
   ]
  },
  {
   "cell_type": "code",
   "execution_count": null,
   "metadata": {},
   "outputs": [],
   "source": [
    "import pickle"
   ]
  },
  {
   "cell_type": "code",
   "execution_count": null,
   "metadata": {},
   "outputs": [],
   "source": [
    "pickle.dump(Generator,open(\"Generator2.pickle.dat\",\"wb\"))\n",
    "pickle.dump(Discriminator,open(\"Discriminator2.pickle.dat\",\"wb\"))"
   ]
  },
  {
   "cell_type": "code",
   "execution_count": null,
   "metadata": {},
   "outputs": [],
   "source": [
    "# class Generator(nn.Module):\n",
    "#     def __init__(self, g_input_dim, g_output_dim):\n",
    "#         super(Generator, self).__init__()       \n",
    "#         self.fc1 = nn.Linear(g_input_dim, 256)\n",
    "#         self.fc2 = nn.Linear(self.fc1.out_features, self.fc1.out_features*2)\n",
    "#         self.fc3 = nn.Linear(self.fc2.out_features, self.fc2.out_features*2)\n",
    "#         self.fc4 = nn.Linear(self.fc3.out_features, g_output_dim)\n",
    "    \n",
    "#     # forward method\n",
    "#     def forward(self, x): \n",
    "#         x = F.leaky_relu(self.fc1(x), 0.2)\n",
    "#         x = F.leaky_relu(self.fc2(x), 0.2)\n",
    "#         x = F.leaky_relu(self.fc3(x), 0.2)\n",
    "#         return torch.tanh(self.fc4(x))\n",
    "    \n",
    "# class Discriminator(nn.Module):\n",
    "#     def __init__(self, d_input_dim):\n",
    "#         super(Discriminator, self).__init__()\n",
    "#         self.fc1 = nn.Linear(d_input_dim, 1024)\n",
    "#         self.fc2 = nn.Linear(self.fc1.out_features, self.fc1.out_features//2)\n",
    "#         self.fc3 = nn.Linear(self.fc2.out_features, self.fc2.out_features//2)\n",
    "#         self.fc4 = nn.Linear(self.fc3.out_features, 1)\n",
    "    \n",
    "#     # forward method\n",
    "#     def forward(self, x):\n",
    "#         x = F.leaky_relu(self.fc1(x), 0.2)\n",
    "#         x = F.dropout(x, 0.3)\n",
    "#         x = F.leaky_relu(self.fc2(x), 0.2)\n",
    "#         x = F.dropout(x, 0.3)\n",
    "#         x = F.leaky_relu(self.fc3(x), 0.2)\n",
    "#         x = F.dropout(x, 0.3)\n",
    "#         return torch.sigmoid(self.fc4(x))"
   ]
  }
 ],
 "metadata": {
  "kernelspec": {
   "display_name": "Python 3",
   "language": "python",
   "name": "python3"
  },
  "language_info": {
   "codemirror_mode": {
    "name": "ipython",
    "version": 3
   },
   "file_extension": ".py",
   "mimetype": "text/x-python",
   "name": "python",
   "nbconvert_exporter": "python",
   "pygments_lexer": "ipython3",
   "version": "3.7.9"
  }
 },
 "nbformat": 4,
 "nbformat_minor": 4
}
