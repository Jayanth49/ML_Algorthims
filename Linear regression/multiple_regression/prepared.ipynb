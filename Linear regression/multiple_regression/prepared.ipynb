{
 "cells": [
  {
   "cell_type": "code",
   "execution_count": 194,
   "metadata": {},
   "outputs": [],
   "source": [
    "import numpy as np\n",
    "import pandas as pd\n",
    "import matplotlib.pyplot as plt"
   ]
  },
  {
   "cell_type": "code",
   "execution_count": 195,
   "metadata": {},
   "outputs": [],
   "source": [
    "d = pd.read_csv('A_3_data.csv').values\n",
    "x_1,x_2,x_3,x_4 = np.matrix(d[:,1],dtype=float).T,np.matrix(d[:,2],dtype=float).T,np.matrix(d[:,3],dtype=float).T,np.matrix(d[:,4],dtype=float).T\n",
    "y = np.matrix(d[:,5],dtype=float).T\n",
    "X = np.concatenate([x_1,x_2,np.ones((82,1))],axis=1)"
   ]
  },
  {
   "cell_type": "code",
   "execution_count": 196,
   "metadata": {},
   "outputs": [],
   "source": [
    "def predicted_values(X,theta):\n",
    "    return X@theta"
   ]
  },
  {
   "cell_type": "code",
   "execution_count": 197,
   "metadata": {},
   "outputs": [],
   "source": [
    "def loss(predicted,y):\n",
    "    return predicted-y"
   ]
  },
  {
   "cell_type": "code",
   "execution_count": 219,
   "metadata": {},
   "outputs": [],
   "source": [
    "def gradient_(X,loss_value):\n",
    "    return X.T@loss_value"
   ]
  },
  {
   "cell_type": "code",
   "execution_count": 244,
   "metadata": {},
   "outputs": [],
   "source": [
    "def value(X,grad):\n",
    "    alpha = 0.0001\n",
    "    m = X.shape[0]\n",
    "    return (alpha/m)*grad\n",
    "\n",
    "def update(theta,val):\n",
    "    return theta-val\n",
    "\n",
    "def cost(loss_value,X):\n",
    "    m = X.shape[0]\n",
    "    c = (1/(2*m))*np.sum((np.square(loss_value)))\n",
    "    return c"
   ]
  },
  {
   "cell_type": "code",
   "execution_count": 251,
   "metadata": {},
   "outputs": [
    {
     "data": {
      "text/plain": [
       "[<matplotlib.lines.Line2D at 0x7fc151d8c190>]"
      ]
     },
     "execution_count": 251,
     "metadata": {},
     "output_type": "execute_result"
    },
    {
     "data": {
      "image/png": "[encoded data removed]",
      "text/plain": [
       "<Figure size 432x288 with 1 Axes>"
      ]
     },
     "metadata": {
      "needs_background": "light"
     },
     "output_type": "display_data"
    }
   ],
   "source": [
    "theta = np.matrix([0,0,0]).T\n",
    "costy = []\n",
    "for i in range(10000000):\n",
    "    predicted = predicted_values(X,theta)\n",
    "    loss_value = loss(predicted,y)\n",
    "    grad = gradient_(X,loss_value)\n",
    "    c = cost(loss_value,X)\n",
    "    costy.append(c)\n",
    "    val = value(X,grad)\n",
    "    theta = update(theta,val)\n",
    "    \n",
    "x = []\n",
    "for i in range(len(costy)):\n",
    "    x.append(i)\n",
    "    \n",
    "plt.plot(x,costy)"
   ]
  },
  {
   "cell_type": "code",
   "execution_count": 252,
   "metadata": {},
   "outputs": [
    {
     "data": {
      "text/plain": [
       "matrix([[-0.11029508],\n",
       "        [-0.1361    ],\n",
       "        [98.7128239 ]])"
      ]
     },
     "execution_count": 252,
     "metadata": {},
     "output_type": "execute_result"
    }
   ],
   "source": [
    "theta_1 = np.linalg.inv(X.T@X)@X.T@y\n",
    "theta_1"
   ]
  },
  {
   "cell_type": "code",
   "execution_count": 253,
   "metadata": {},
   "outputs": [],
   "source": [
    "pre = predicted_values(X,theta)\n",
    "x = pre-y"
   ]
  },
  {
   "cell_type": "code",
   "execution_count": 254,
   "metadata": {},
   "outputs": [],
   "source": [
    "pre_1 = predicted_values(X,theta_1)"
   ]
  },
  {
   "cell_type": "code",
   "execution_count": 255,
   "metadata": {},
   "outputs": [
    {
     "data": {
      "text/plain": [
       "matrix([[-0.11029507],\n",
       "        [-0.1361    ],\n",
       "        [98.71282385]])"
      ]
     },
     "execution_count": 255,
     "metadata": {},
     "output_type": "execute_result"
    }
   ],
   "source": [
    "theta"
   ]
  },
  {
   "cell_type": "code",
   "execution_count": 256,
   "metadata": {},
   "outputs": [
    {
     "data": {
      "text/plain": [
       "matrix([[ 0.18610539],\n",
       "        [-0.7122439 ],\n",
       "        [ 0.30972753],\n",
       "        [-0.55338519],\n",
       "        [-0.23653241],\n",
       "        [-0.37987952],\n",
       "        [ 0.17390202],\n",
       "        [ 0.46178507],\n",
       "        [ 1.0211294 ],\n",
       "        [ 0.45388643],\n",
       "        [ 0.2583626 ],\n",
       "        [ 0.16578948],\n",
       "        [-0.12537101],\n",
       "        [-0.10422142],\n",
       "        [ 0.16334359],\n",
       "        [-0.15636502],\n",
       "        [-0.17837802],\n",
       "        [ 0.38208322],\n",
       "        [ 0.31844657],\n",
       "        [-0.14526305],\n",
       "        [-0.65349703],\n",
       "        [ 0.37654737],\n",
       "        [ 0.43571138],\n",
       "        [ 0.81431264],\n",
       "        [ 0.5400681 ],\n",
       "        [ 1.09935002],\n",
       "        [ 0.96622577],\n",
       "        [ 1.76617038],\n",
       "        [ 1.08685336],\n",
       "        [ 0.07134712],\n",
       "        [-0.06568072],\n",
       "        [ 0.65449905],\n",
       "        [ 0.31341952],\n",
       "        [ 0.06121041],\n",
       "        [ 0.03286787],\n",
       "        [-0.09374983],\n",
       "        [-0.44440061],\n",
       "        [-0.15812984],\n",
       "        [-0.926283  ],\n",
       "        [-0.06033494],\n",
       "        [-0.39121626],\n",
       "        [-0.1305019 ],\n",
       "        [-0.04863202],\n",
       "        [-0.8229482 ],\n",
       "        [-0.84832205],\n",
       "        [-0.63549958],\n",
       "        [-0.52218065],\n",
       "        [-0.0645199 ],\n",
       "        [-0.8579022 ],\n",
       "        [-0.84297109],\n",
       "        [-1.11355994],\n",
       "        [-1.5856989 ],\n",
       "        [-0.70305494],\n",
       "        [ 1.10625646],\n",
       "        [ 0.78260859],\n",
       "        [ 1.01522034],\n",
       "        [ 0.84616795],\n",
       "        [ 0.43772302],\n",
       "        [ 0.40522512],\n",
       "        [ 0.75533797],\n",
       "        [ 0.93847345],\n",
       "        [ 0.51406164],\n",
       "        [ 0.03513915],\n",
       "        [ 0.09452028],\n",
       "        [-0.18706658],\n",
       "        [ 0.23470135],\n",
       "        [-0.09621769],\n",
       "        [ 0.6730843 ],\n",
       "        [ 0.5659916 ],\n",
       "        [-0.18886607],\n",
       "        [-0.87707611],\n",
       "        [-1.0926643 ],\n",
       "        [-0.31209316],\n",
       "        [-1.36840126],\n",
       "        [-0.82816029],\n",
       "        [-0.06454689],\n",
       "        [ 1.01700914],\n",
       "        [-0.85354717],\n",
       "        [-0.35026392],\n",
       "        [-0.63786419],\n",
       "        [-0.31961346],\n",
       "        [-0.79756052]])"
      ]
     },
     "execution_count": 256,
     "metadata": {},
     "output_type": "execute_result"
    }
   ],
   "source": [
    "x"
   ]
  },
  {
   "cell_type": "code",
   "execution_count": null,
   "metadata": {},
   "outputs": [],
   "source": []
  },
  {
   "cell_type": "code",
   "execution_count": null,
   "metadata": {},
   "outputs": [],
   "source": []
  }
 ],
 "metadata": {
  "kernelspec": {
   "display_name": "Python 3",
   "language": "python",
   "name": "python3"
  },
  "language_info": {
   "codemirror_mode": {
    "name": "ipython",
    "version": 3
   },
   "file_extension": ".py",
   "mimetype": "text/x-python",
   "name": "python",
   "nbconvert_exporter": "python",
   "pygments_lexer": "ipython3",
   "version": "3.7.9"
  }
 },
 "nbformat": 4,
 "nbformat_minor": 4
}
